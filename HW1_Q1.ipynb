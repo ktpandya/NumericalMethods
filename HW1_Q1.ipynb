{
 "cells": [
  {
   "cell_type": "code",
   "execution_count": 3,
   "metadata": {},
   "outputs": [
    {
     "name": "stdout",
     "output_type": "stream",
     "text": [
      "Enter the polynomial function\n",
      "Enter the value where you ant to evaluate the function\n",
      "x^3-9*x+1\n",
      "Enter the end values for Bisection method\n",
      "2 and 4\n",
      "Enter required relative tolerance as 10^-n, where n = \n",
      "0.001\n",
      "ENter number of maximum iterations\n",
      "The root for the given equation is :  2.943359375 and the value of iterations that are required to reach this value are 9\n",
      "the function is close to : 0.00916048139333725\n"
     ]
    }
   ],
   "source": [
    "#   Name : Kush Tusharbhai Pandya\n",
    "#   SR no: 21804\n",
    "#   Subject : Numerical Methods\n",
    "#   Department: Aerospace engineering MTech Res\n",
    "#   Assignment 1 \n",
    "#   HW1\n",
    "\n",
    "\n",
    "#       Question 1:\n",
    "#       Using the bisection method, find the solution of f(x) = 0 by considering the interval [2, 4]. \n",
    "#       Iterate until you reach a relative tolerance of 10−3 between successive iterates.\n",
    "#       Report the root found and the number of iterations required. f(x) = x3 −9x+1 =0\n",
    "\n",
    "\n",
    "\n",
    "# ############################################################################\n",
    "####  Defining the function ###############################################\n",
    "def Power(equation):\n",
    "    return equation.replace(\"^\", \"**\")\n",
    "\n",
    "def funcT(equation, x_value):\n",
    "    fixed_equation = Power(equation.strip())\n",
    "    parts = fixed_equation.split(\"+\")\n",
    "    x_str_value = str(x_value)\n",
    "    parts_with_values = (part.replace(\"x\", x_str_value) for part in parts )\n",
    "    partial_values = (eval(part) for part in parts_with_values)\n",
    "    return sum(partial_values)\n",
    "print(\"Enter the polynomial function\")\n",
    "eq = input()\n",
    "print(\"Enter the value where you ant to evaluate the function\")\n",
    "#x1 = input()\n",
    "print(eq)\n",
    "#print(\"Its value at x = \",x1 ,\"is \", funcT(eq,x1))\n",
    "\n",
    "\n",
    "############################################################################\n",
    "#################Algorithm for Bisection Method############################\n",
    "def bisection(a,b,Tolerance,n):\n",
    "\n",
    "    pe = a\n",
    "    for i in range(n):\n",
    "        \n",
    "        p = a + (b-a)/2\n",
    "        \n",
    "        if funcT(eq,p) == 0 or (b-a)/(2*pe) < Tolerance:\n",
    "            print(\"The root for the given equation is : \",p , \"and the value of iterations that are required to reach this value are\", i)\n",
    "            print(\"the function is close to :\", funcT(eq,p))\n",
    "            break\n",
    "\n",
    "        elif funcT(eq,a)*funcT(eq,p) < 0:\n",
    "            b = p\n",
    "            pe = p\n",
    "        else:\n",
    "            a = p\n",
    "            pe = p\n",
    "\n",
    "    i = i + 1\n",
    "    \n",
    "\n",
    "############################################################################\n",
    "############################Inputs########################################\n",
    "import math as mt\n",
    "print(\"Enter the end values for Bisection method\")\n",
    "a = int(input())\n",
    "b = int(input())\n",
    "print(a,\"and\",b)\n",
    "print(\"Enter required relative tolerance as 10^-n, where n = \")\n",
    "n = int(input())\n",
    "TOL = 10 ** (-n)\n",
    "print(TOL)\n",
    "print(\"ENter number of maximum iterations\")\n",
    "N = int(input())\n",
    "pe = a\n",
    "\n",
    "if funcT(eq,a)*funcT(eq,b) > 0:\n",
    "    print(\"Bisection method wont work\")\n",
    "else:\n",
    "    bisection(a,b,TOL,N)\n"
   ]
  }
 ],
 "metadata": {
  "kernelspec": {
   "display_name": "Python 3.6.8 64-bit",
   "language": "python",
   "name": "python3"
  },
  "language_info": {
   "codemirror_mode": {
    "name": "ipython",
    "version": 3
   },
   "file_extension": ".py",
   "mimetype": "text/x-python",
   "name": "python",
   "nbconvert_exporter": "python",
   "pygments_lexer": "ipython3",
   "version": "3.6.8"
  },
  "orig_nbformat": 4,
  "vscode": {
   "interpreter": {
    "hash": "d9e52e90eba5ecd18d3ecb8f980ad83ff6bd6ff279919d74ed9151d7a92746f6"
   }
  }
 },
 "nbformat": 4,
 "nbformat_minor": 2
}

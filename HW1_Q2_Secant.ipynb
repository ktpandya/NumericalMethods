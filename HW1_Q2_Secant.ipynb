{
 "cells": [
  {
   "cell_type": "code",
   "execution_count": 1,
   "metadata": {},
   "outputs": [
    {
     "name": "stdout",
     "output_type": "stream",
     "text": [
      "Enter the equation: if there is a cos(x) just write cos , Simillarly, if there is e^x, just write e :\n",
      "cos - x * e\n",
      "1.0\n",
      "Enter two initial approximations :\n",
      "0 1\n",
      "Enter required relative tolerance , as 10^-n, write n\n",
      "1e-06\n",
      "Enter maximum number of iterations :\n",
      "20\n",
      "The root of given equation is  0.5177573636823997 and the iterations required to reach it is 6\n",
      "The relative tolerance is  1.3658554454972035e-08\n"
     ]
    }
   ],
   "source": [
    "#   Name : Kush Tusharbhai Pandya\n",
    "#   SR no: 21804\n",
    "#   Subject : Numerical Methods\n",
    "#   Department: Aerospace engineering MTech Res\n",
    "#   Assignment 1 \n",
    "#   HW1\n",
    "\n",
    "# Question 2.\n",
    "#   Using the Secant and Regula-Falsi methods, find the solution of f(x) = 0 by considering initial approximations at x0 = 0 and x1 = 1. \n",
    "#   Iterate until you reach a relative tolerance of 10−6 between successive iterates.\n",
    "#   Report the root found and the number of iterations needed for each method. f(x) = cosx−xex = 0\n",
    "####################################################################################################\n",
    "##########################################################################################################################\n",
    "import math\n",
    "from tkinter import Y\n",
    "def fix_power_sign(equation):\n",
    "    return equation.replace(\"^\", \"**\")\n",
    "\n",
    "def funcT(equation, x_value):\n",
    "    fixed_equation1 = fix_power_sign(equation.strip())\n",
    "    exp = str(math.exp(x_value))\n",
    "    fixed_equation2 = fixed_equation1.replace(\"e\",exp)\n",
    "    x_str_value = str(x_value)\n",
    "    Addcos = str(math.cos(x_value))\n",
    "    fixed_equation = fixed_equation2.replace(\"cos\",Addcos)\n",
    "    parts = fixed_equation.split(\"+\")\n",
    "    parts_with_values = (part.replace(\"x\", x_str_value) for part in parts)\n",
    "    partial_values = (eval(part) for part in parts_with_values )\n",
    "    return sum(partial_values)\n",
    "\n",
    "print(\"Enter the equation: if there is a cos(x) just write cos , Simillarly, if there is e^x, just write e :\")\n",
    "eq = input()\n",
    "\n",
    "print(eq)\n",
    "print(funcT(eq,0))\n",
    "##################################################################################################################################\n",
    "def Secant(p0,p1,TOL,N):\n",
    "     q0 = funcT(eq,p0)\n",
    "     q1 = funcT(eq,p1)\n",
    "     pe = p1\n",
    "     for i in range(N):\n",
    "        p = p1 - q1*(p1-p0)/(q1-q0)\n",
    "        q = funcT(eq,p)\n",
    "        if(abs((p-pe)/pe) < TOL):\n",
    "            print(\"The root of given equation is \",p , \"and the iterations required to reach it is\",i)\n",
    "            print(\"The relative tolerance is \", abs((p-pe)/pe))\n",
    "            break\n",
    "        \n",
    "        else :\n",
    "            pe = p\n",
    "            p0 = p1\n",
    "            q0 = q1\n",
    "            p1 = p\n",
    "            q1 = q\n",
    "     i = i+1\n",
    "######################################################################################################\n",
    "print(\"Enter two initial approximations :\")\n",
    "\n",
    "i = 0\n",
    "p0 = int(input())\n",
    "p1 = int(input())\n",
    "print(p0,p1)\n",
    "\n",
    "\n",
    "print(\"Enter required relative tolerance , as 10^-n, write n\")\n",
    "n = int(input())\n",
    "TOL = 10**(-n)\n",
    "\n",
    "print(TOL)\n",
    "print(\"Enter maximum number of iterations :\")\n",
    "N = int(input())\n",
    "print(N)\n",
    "\n",
    "q0 = funcT(eq,p0)\n",
    "q1 = funcT(eq,p1)\n",
    "pe = p1\n",
    "\n",
    "if q1 * q0 > 0 :\n",
    "    print(\"Secant method wont work\")\n",
    "    \n",
    "else:\n",
    "    Secant(p0,p1,TOL,N)"
   ]
  }
 ],
 "metadata": {
  "kernelspec": {
   "display_name": "Python 3.6.8 64-bit",
   "language": "python",
   "name": "python3"
  },
  "language_info": {
   "codemirror_mode": {
    "name": "ipython",
    "version": 3
   },
   "file_extension": ".py",
   "mimetype": "text/x-python",
   "name": "python",
   "nbconvert_exporter": "python",
   "pygments_lexer": "ipython3",
   "version": "3.6.8"
  },
  "orig_nbformat": 4,
  "vscode": {
   "interpreter": {
    "hash": "d9e52e90eba5ecd18d3ecb8f980ad83ff6bd6ff279919d74ed9151d7a92746f6"
   }
  }
 },
 "nbformat": 4,
 "nbformat_minor": 2
}

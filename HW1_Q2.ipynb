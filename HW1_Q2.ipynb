#   Name : Kush Tusharbhai Pandya
#   SR no: 21804
#   Subject : Numerical Methods
#   Department: Aerospace engineering MTech Res
#   Assignment 1 
#   HW1

# Question 2.
#   Using the Secant and Regula-Falsi methods, find the solution of f(x) = 0 by considering initial approximations at x0 = 0 and x1 = 1. 
#   Iterate until you reach a relative tolerance of 10−6 between successive iterates.
#   Report the root found and the number of iterations needed for each method. f(x) = cosx−xex = 0
####################################################################################################
import math
from tkinter import Y
def fix_power_sign(equation):
    return equation.replace("^", "**")

def funcT(equation, x_value):
    fixed_equation1 = fix_power_sign(equation.strip())
    exp = str(math.exp(x_value))
    fixed_equation2 = fixed_equation1.replace("e",exp)
    x_str_value = str(x_value)
    Addcos = str(math.cos(x_value))
    fixed_equation = fixed_equation2.replace("cos",Addcos)
    parts = fixed_equation.split("+")
    parts_with_values = (part.replace("x", x_str_value) for part in parts)
    partial_values = (eval(part) for part in parts_with_values )
    return sum(partial_values)

print("Enter the equation: if there is a cos(x) just write cos , Simillarly, if there is e^x, just write e :")
eq = input()

print(eq)
print(funcT(eq,0))
######################################################################################################
def RF(p0,p1,Tolerance,N):
    q0 = funcT(eq,p0)
    q1 = funcT(eq,p1)
    pe = p1
    for i in range(N):
        p = p1 - q1*(p1-p0)/(q1-q0)
        q = funcT(eq,p)
        if pe != 0 and (abs((p-pe)/pe) < Tolerance):
            print("The root of given equation is ",p , "and the iterations required to reach it is",i)
            print("The relative tolerance is ", abs((p-pe)/pe))
            break
        elif pe == 0 and (abs((p-pe)/p) < Tolerance):
            print("The root of given equation is ",p , "and the iterations required to reach it is",i)
            print("The relative tolerance is ", abs((p-pe)/p))
            break
        elif q*q1 < 0:
            pe = p
            p0 = p
            q0 = q
        else :
            pe = p
            p1 = p
            q1 = q
    i = i+1

######################################################################################################
def Secant(p0,p1,TOL,N):
     q0 = funcT(eq,p0)
     q1 = funcT(eq,p1)
     pe = p1
     for i in range(N):
        p = p1 - q1*(p1-p0)/(q1-q0)
        q = funcT(eq,p)
        if pe != 0 and (abs((p-pe)/pe) < TOL):
            print("The root of given equation is ",p , "and the iterations required to reach it is",i)
            print("The relative tolerance is ", abs((p-pe)/pe))
            break
        elif pe == 0 and (abs((p-pe)/p) < TOL):
            print("The root of given equation is ",p , "and the iterations required to reach it is",i)
            print("The relative tolerance is ", abs((p-pe)/p))
            break
        else :
            pe = p
            p0 = p1
            q0 = q1
            p1 = p
            q1 = q
     i = i+1

######################################################################################################
print("Enter two initial approximations :")

i = 0
p0 = int(input())
p1 = int(input())
print(p0,p1)


print("Enter required relative tolerance , as 10^-n, write n")
n = int(input())
TOL = 10**(-n)

print(TOL)
print("Enter maximum number of iterations :")
N = int(input())
print(N)

q0 = funcT(eq,p0)
q1 = funcT(eq,p1)
pe = p1
print("Enter which method you want to work: Press 1 for secant method , press 2 for Regula falsi method")
method = int(input())
if q1 * q0 > 0 :
    print("Regula Falsi or secant method wont work")
elif method == 1 :
    Secant(p0,p1,TOL,N)    
else:
    RF(p0,p1,TOL,N)
